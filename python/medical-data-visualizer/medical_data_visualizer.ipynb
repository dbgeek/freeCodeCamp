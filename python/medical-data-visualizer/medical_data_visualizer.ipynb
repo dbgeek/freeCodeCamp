{
 "cells": [
  {
   "cell_type": "code",
   "execution_count": 82,
   "metadata": {},
   "outputs": [],
   "source": [
    "import matplotlib.pyplot as plt\n",
    "import numpy as np\n",
    "import pandas as pd\n",
    "import seaborn as sns\n",
    "import matplotlib as mpl\n",
    "\n",
    "%matplotlib inline"
   ]
  },
  {
   "cell_type": "code",
   "execution_count": 58,
   "metadata": {},
   "outputs": [],
   "source": [
    "df = pd.read_csv('medical_examination.csv')"
   ]
  },
  {
   "cell_type": "markdown",
   "metadata": {},
   "source": [
    "#### Add an 'overweight' column to the data. To determine if a person is overweight, first calculate their BMI by dividing their weight in kilograms by the square of their height in meters. If that value is > 25 then the person is overweight. Use the value 0 for NOT overweight and the value 1 for overweight."
   ]
  },
  {
   "cell_type": "code",
   "execution_count": 59,
   "metadata": {},
   "outputs": [],
   "source": [
    "df['overweight'] = df['overweight'] = df[\"weight\"] / ((df[\"height\"] / 100) ** 2)\n",
    "df['overweight'] = pd.Series(np.where(df['overweight'] > 25, 1, 0))"
   ]
  },
  {
   "cell_type": "markdown",
   "metadata": {},
   "source": [
    "#### Normalize data by making 0 always good and 1 always bad. If the value of 'cholestorol' or 'gluc' is 1, make the value 0. If the value is more than 1, make the value 1."
   ]
  },
  {
   "cell_type": "code",
   "execution_count": 60,
   "metadata": {},
   "outputs": [],
   "source": [
    "df['cholesterol'] = pd.Series(np.where(df['cholesterol'] > 1, 1, 0))\n",
    "df['gluc'] = pd.Series(np.where(df['gluc'] > 1, 1, 0))"
   ]
  },
  {
   "cell_type": "markdown",
   "metadata": {},
   "source": [
    "#### Convert the data into long format and create a chart that shows the value counts of the categorical features using seaborn's catplot(). The dataset should be split by 'Cardio' so there is one chart for each 'cardio' value. The chart should look like \"examples/Figure_1.png\"."
   ]
  },
  {
   "cell_type": "code",
   "execution_count": 61,
   "metadata": {},
   "outputs": [],
   "source": [
    "df_fig1 = pd.melt(df, id_vars=[\"cardio\"], value_vars=[\n",
    "                     \"active\", \"alco\", \"cholesterol\", \"gluc\", \"smoke\", \"overweight\"])\n",
    "# Adding total seria / column to put the count result into\n",
    "df_fig1[\"total\"] = 0\n",
    "df_fig1 = df_fig1.groupby([\"variable\", \"cardio\", \"value\"], as_index=False).count()"
   ]
  },
  {
   "cell_type": "code",
   "execution_count": 62,
   "metadata": {},
   "outputs": [],
   "source": [
    "labels = df_fig1['variable'].unique().tolist()\n",
    "x = np.arange(len(labels))  # the label locations\n",
    "width = 0.35  # the width of the bars\n",
    "\n",
    "df_fig1_cardio_0 = df_fig1.loc[(df_fig1['cardio'] == 0)]\n",
    "fig1_cardio_0_value_0 = df_fig1_cardio_0.loc[(df_fig1_cardio_0['value'] == 0), 'total'].tolist()\n",
    "fig1_cardio_0_value_1 = df_fig1_cardio_0.loc[(df_fig1_cardio_0['value'] == 1), 'total'].tolist()\n",
    "\n",
    "df_fig1_cardio_1 = df_fig1.loc[(df_fig1['cardio'] == 1)]\n",
    "fig1_cardio_1_value_0 = df_fig1_cardio_1.loc[(df_fig1_cardio_1['value'] == 0), 'total'].tolist()\n",
    "fig1_cardio_1_value_1 = df_fig1_cardio_1.loc[(df_fig1_cardio_1['value'] == 1), 'total'].tolist()"
   ]
  },
  {
   "cell_type": "markdown",
   "metadata": {},
   "source": [
    "##### plot it with seaborn"
   ]
  },
  {
   "cell_type": "code",
   "execution_count": 63,
   "metadata": {},
   "outputs": [
    {
     "data": {
      "image/png": "[encoded data removed]",
      "text/plain": [
       "<Figure size 762.375x360 with 2 Axes>"
      ]
     },
     "metadata": {
      "needs_background": "light"
     },
     "output_type": "display_data"
    }
   ],
   "source": [
    "fig = sns.catplot(x=\"variable\", y=\"total\", col=\"cardio\",\n",
    "                  hue=\"value\", kind=\"bar\", data=df_fig1).fig"
   ]
  },
  {
   "cell_type": "markdown",
   "metadata": {},
   "source": [
    "##### plot it with matplot lib"
   ]
  },
  {
   "cell_type": "code",
   "execution_count": 64,
   "metadata": {},
   "outputs": [
    {
     "data": {
      "text/plain": [
       "(<Figure size 1008x432 with 2 Axes>,\n",
       " array([<AxesSubplot:title={'center':'cardio = 0'}, xlabel='variable', ylabel='total'>,\n",
       "        <AxesSubplot:title={'center':'cardio = 1'}, xlabel='variable'>],\n",
       "       dtype=object))"
      ]
     },
     "execution_count": 64,
     "metadata": {},
     "output_type": "execute_result"
    },
    {
     "data": {
      "image/png": "[encoded data removed]",
      "text/plain": [
       "<Figure size 1008x432 with 2 Axes>"
      ]
     },
     "metadata": {
      "needs_background": "light"
     },
     "output_type": "display_data"
    }
   ],
   "source": [
    "plot_objects = plt.subplots(nrows=1, ncols=2, figsize=(14, 6))\n",
    "\n",
    "fig, ((ax1, ax2)) = plot_objects\n",
    "\n",
    "rects1 = ax1.bar(x - width/2, fig1_cardio_0_value_0, width, label='0')\n",
    "rects2 = ax1.bar(x + width/2, fig1_cardio_0_value_1, width, label='1')\n",
    "\n",
    "ax1.set_xticks(x)\n",
    "ax1.set_xticklabels(labels)\n",
    "ax1.set_ylabel('total')\n",
    "ax1.set_xlabel('variable')\n",
    "ax1.set_title('cardio = 0')\n",
    "ax1.spines['top'].set_visible(False)\n",
    "ax1.spines['left'].set_visible(False)\n",
    "ax1.spines['right'].set_visible(False)\n",
    "\n",
    "ax2_rects1 = ax2.bar(x - width/2, fig1_cardio_1_value_0, width, label='0')\n",
    "ax2_rects2 = ax2.bar(x + width/2, fig1_cardio_1_value_1, width, label='1')\n",
    "ax2.set_xlabel('variable')\n",
    "ax2.set_title('cardio = 1')\n",
    "ax2.set_xticks(x)\n",
    "ax2.set_xticklabels(labels)\n",
    "ax2.set_yticklabels([])\n",
    "ax2.legend(loc='center left', bbox_to_anchor=(1, 0.5), title=\"value\")\n",
    "ax2.spines['top'].set_visible(False)\n",
    "ax2.spines['right'].set_visible(False)\n",
    "fig.tight_layout()\n",
    "\n",
    "plot_objects "
   ]
  },
  {
   "cell_type": "markdown",
   "metadata": {},
   "source": [
    "#### Clean the data. Filter out the following patient segments that represent incorrect data:\n",
    "* diastolic pressure is higher then systolic (Keep the correct data with df['ap_lo'] <= df['ap_hi']))\n",
    "* height is less than the 2.5th percentile (Keep the correct data with (df['height'] >= df['height'].quantile(0.025)))\n",
    "* height is more than the 97.5th percentile\n",
    "* weight is less then the 2.5th percentile\n",
    "* weight is more than the 97.5th percentile"
   ]
  },
  {
   "cell_type": "code",
   "execution_count": 68,
   "metadata": {},
   "outputs": [
    {
     "data": {
      "text/html": [
       "<div>\n",
       "<style scoped>\n",
       "    .dataframe tbody tr th:only-of-type {\n",
       "        vertical-align: middle;\n",
       "    }\n",
       "\n",
       "    .dataframe tbody tr th {\n",
       "        vertical-align: top;\n",
       "    }\n",
       "\n",
       "    .dataframe thead th {\n",
       "        text-align: right;\n",
       "    }\n",
       "</style>\n",
       "<table border=\"1\" class=\"dataframe\">\n",
       "  <thead>\n",
       "    <tr style=\"text-align: right;\">\n",
       "      <th></th>\n",
       "      <th>id</th>\n",
       "      <th>age</th>\n",
       "      <th>gender</th>\n",
       "      <th>height</th>\n",
       "      <th>weight</th>\n",
       "      <th>ap_hi</th>\n",
       "      <th>ap_lo</th>\n",
       "      <th>cholesterol</th>\n",
       "      <th>gluc</th>\n",
       "      <th>smoke</th>\n",
       "      <th>alco</th>\n",
       "      <th>active</th>\n",
       "      <th>cardio</th>\n",
       "      <th>overweight</th>\n",
       "    </tr>\n",
       "  </thead>\n",
       "  <tbody>\n",
       "    <tr>\n",
       "      <th>0</th>\n",
       "      <td>0</td>\n",
       "      <td>18393</td>\n",
       "      <td>2</td>\n",
       "      <td>168</td>\n",
       "      <td>62.0</td>\n",
       "      <td>110</td>\n",
       "      <td>80</td>\n",
       "      <td>0</td>\n",
       "      <td>0</td>\n",
       "      <td>0</td>\n",
       "      <td>0</td>\n",
       "      <td>1</td>\n",
       "      <td>0</td>\n",
       "      <td>0</td>\n",
       "    </tr>\n",
       "    <tr>\n",
       "      <th>1</th>\n",
       "      <td>1</td>\n",
       "      <td>20228</td>\n",
       "      <td>1</td>\n",
       "      <td>156</td>\n",
       "      <td>85.0</td>\n",
       "      <td>140</td>\n",
       "      <td>90</td>\n",
       "      <td>1</td>\n",
       "      <td>0</td>\n",
       "      <td>0</td>\n",
       "      <td>0</td>\n",
       "      <td>1</td>\n",
       "      <td>1</td>\n",
       "      <td>1</td>\n",
       "    </tr>\n",
       "    <tr>\n",
       "      <th>2</th>\n",
       "      <td>2</td>\n",
       "      <td>18857</td>\n",
       "      <td>1</td>\n",
       "      <td>165</td>\n",
       "      <td>64.0</td>\n",
       "      <td>130</td>\n",
       "      <td>70</td>\n",
       "      <td>1</td>\n",
       "      <td>0</td>\n",
       "      <td>0</td>\n",
       "      <td>0</td>\n",
       "      <td>0</td>\n",
       "      <td>1</td>\n",
       "      <td>0</td>\n",
       "    </tr>\n",
       "    <tr>\n",
       "      <th>3</th>\n",
       "      <td>3</td>\n",
       "      <td>17623</td>\n",
       "      <td>2</td>\n",
       "      <td>169</td>\n",
       "      <td>82.0</td>\n",
       "      <td>150</td>\n",
       "      <td>100</td>\n",
       "      <td>0</td>\n",
       "      <td>0</td>\n",
       "      <td>0</td>\n",
       "      <td>0</td>\n",
       "      <td>1</td>\n",
       "      <td>1</td>\n",
       "      <td>1</td>\n",
       "    </tr>\n",
       "    <tr>\n",
       "      <th>4</th>\n",
       "      <td>4</td>\n",
       "      <td>17474</td>\n",
       "      <td>1</td>\n",
       "      <td>156</td>\n",
       "      <td>56.0</td>\n",
       "      <td>100</td>\n",
       "      <td>60</td>\n",
       "      <td>0</td>\n",
       "      <td>0</td>\n",
       "      <td>0</td>\n",
       "      <td>0</td>\n",
       "      <td>0</td>\n",
       "      <td>0</td>\n",
       "      <td>0</td>\n",
       "    </tr>\n",
       "    <tr>\n",
       "      <th>...</th>\n",
       "      <td>...</td>\n",
       "      <td>...</td>\n",
       "      <td>...</td>\n",
       "      <td>...</td>\n",
       "      <td>...</td>\n",
       "      <td>...</td>\n",
       "      <td>...</td>\n",
       "      <td>...</td>\n",
       "      <td>...</td>\n",
       "      <td>...</td>\n",
       "      <td>...</td>\n",
       "      <td>...</td>\n",
       "      <td>...</td>\n",
       "      <td>...</td>\n",
       "    </tr>\n",
       "    <tr>\n",
       "      <th>69993</th>\n",
       "      <td>99991</td>\n",
       "      <td>19699</td>\n",
       "      <td>1</td>\n",
       "      <td>172</td>\n",
       "      <td>70.0</td>\n",
       "      <td>130</td>\n",
       "      <td>90</td>\n",
       "      <td>0</td>\n",
       "      <td>0</td>\n",
       "      <td>0</td>\n",
       "      <td>0</td>\n",
       "      <td>1</td>\n",
       "      <td>1</td>\n",
       "      <td>0</td>\n",
       "    </tr>\n",
       "    <tr>\n",
       "      <th>69994</th>\n",
       "      <td>99992</td>\n",
       "      <td>21074</td>\n",
       "      <td>1</td>\n",
       "      <td>165</td>\n",
       "      <td>80.0</td>\n",
       "      <td>150</td>\n",
       "      <td>80</td>\n",
       "      <td>0</td>\n",
       "      <td>0</td>\n",
       "      <td>0</td>\n",
       "      <td>0</td>\n",
       "      <td>1</td>\n",
       "      <td>1</td>\n",
       "      <td>1</td>\n",
       "    </tr>\n",
       "    <tr>\n",
       "      <th>69995</th>\n",
       "      <td>99993</td>\n",
       "      <td>19240</td>\n",
       "      <td>2</td>\n",
       "      <td>168</td>\n",
       "      <td>76.0</td>\n",
       "      <td>120</td>\n",
       "      <td>80</td>\n",
       "      <td>0</td>\n",
       "      <td>0</td>\n",
       "      <td>1</td>\n",
       "      <td>0</td>\n",
       "      <td>1</td>\n",
       "      <td>0</td>\n",
       "      <td>1</td>\n",
       "    </tr>\n",
       "    <tr>\n",
       "      <th>69998</th>\n",
       "      <td>99998</td>\n",
       "      <td>22431</td>\n",
       "      <td>1</td>\n",
       "      <td>163</td>\n",
       "      <td>72.0</td>\n",
       "      <td>135</td>\n",
       "      <td>80</td>\n",
       "      <td>0</td>\n",
       "      <td>1</td>\n",
       "      <td>0</td>\n",
       "      <td>0</td>\n",
       "      <td>0</td>\n",
       "      <td>1</td>\n",
       "      <td>1</td>\n",
       "    </tr>\n",
       "    <tr>\n",
       "      <th>69999</th>\n",
       "      <td>99999</td>\n",
       "      <td>20540</td>\n",
       "      <td>1</td>\n",
       "      <td>170</td>\n",
       "      <td>72.0</td>\n",
       "      <td>120</td>\n",
       "      <td>80</td>\n",
       "      <td>1</td>\n",
       "      <td>0</td>\n",
       "      <td>0</td>\n",
       "      <td>0</td>\n",
       "      <td>1</td>\n",
       "      <td>0</td>\n",
       "      <td>0</td>\n",
       "    </tr>\n",
       "  </tbody>\n",
       "</table>\n",
       "<p>63259 rows × 14 columns</p>\n",
       "</div>"
      ],
      "text/plain": [
       "          id    age  gender  height  weight  ap_hi  ap_lo  cholesterol  gluc  \\\n",
       "0          0  18393       2     168    62.0    110     80            0     0   \n",
       "1          1  20228       1     156    85.0    140     90            1     0   \n",
       "2          2  18857       1     165    64.0    130     70            1     0   \n",
       "3          3  17623       2     169    82.0    150    100            0     0   \n",
       "4          4  17474       1     156    56.0    100     60            0     0   \n",
       "...      ...    ...     ...     ...     ...    ...    ...          ...   ...   \n",
       "69993  99991  19699       1     172    70.0    130     90            0     0   \n",
       "69994  99992  21074       1     165    80.0    150     80            0     0   \n",
       "69995  99993  19240       2     168    76.0    120     80            0     0   \n",
       "69998  99998  22431       1     163    72.0    135     80            0     1   \n",
       "69999  99999  20540       1     170    72.0    120     80            1     0   \n",
       "\n",
       "       smoke  alco  active  cardio  overweight  \n",
       "0          0     0       1       0           0  \n",
       "1          0     0       1       1           1  \n",
       "2          0     0       0       1           0  \n",
       "3          0     0       1       1           1  \n",
       "4          0     0       0       0           0  \n",
       "...      ...   ...     ...     ...         ...  \n",
       "69993      0     0       1       1           0  \n",
       "69994      0     0       1       1           1  \n",
       "69995      1     0       1       0           1  \n",
       "69998      0     0       0       1           1  \n",
       "69999      0     0       1       0           0  \n",
       "\n",
       "[63259 rows x 14 columns]"
      ]
     },
     "execution_count": 68,
     "metadata": {},
     "output_type": "execute_result"
    }
   ],
   "source": [
    "df_fig2 = df.loc[\n",
    "    (df['ap_lo'] <= df['ap_hi']) &\n",
    "    (df['height'] >= df['height'].quantile(0.025)) & \n",
    "    (df['height'] <= df['height'].quantile(0.975)) & \n",
    "    (df['weight'] >= df['weight'].quantile(0.025)) & \n",
    "    (df['weight'] <= df['weight'].quantile(0.975))\n",
    "]\n",
    "df_fig2"
   ]
  },
  {
   "cell_type": "markdown",
   "metadata": {},
   "source": [
    "#### Create a correlation matrix using the dataset. Plot the correlation matrix using seaborn's heatmap(). Mask the upper triangle. The chart should look like \"examples/Figure_2.png\"."
   ]
  },
  {
   "cell_type": "code",
   "execution_count": 71,
   "metadata": {},
   "outputs": [],
   "source": [
    "corr = df_fig2.corr()\n",
    "mask = np.triu(np.ones_like(corr, dtype=np.bool))"
   ]
  },
  {
   "cell_type": "code",
   "execution_count": 76,
   "metadata": {},
   "outputs": [
    {
     "data": {
      "image/png": "[encoded data removed]",
      "text/plain": [
       "<Figure size 1080x1080 with 2 Axes>"
      ]
     },
     "metadata": {
      "needs_background": "light"
     },
     "output_type": "display_data"
    }
   ],
   "source": [
    "fig, ax = plt.subplots(figsize=(15, 15))\n",
    "\n",
    "ax = sns.heatmap(\n",
    "    corr,\n",
    "    mask=mask,\n",
    "    fmt='.1f',\n",
    "    annot=True,\n",
    "    center=0,\n",
    "    #vmax=0.32,\n",
    "    square=True,\n",
    "    linewidths=.5,\n",
    "    cbar_kws={\"shrink\": .4}\n",
    ")"
   ]
  },
  {
   "cell_type": "code",
   "execution_count": 83,
   "metadata": {},
   "outputs": [],
   "source": [
    " actual = [text.get_text() for text in fig.axes[0].get_default_bbox_extra_artists() if isinstance(text, mpl.text.Text)]"
   ]
  },
  {
   "cell_type": "code",
   "execution_count": 85,
   "metadata": {},
   "outputs": [
    {
     "data": {
      "text/plain": [
       "91"
      ]
     },
     "execution_count": 85,
     "metadata": {},
     "output_type": "execute_result"
    }
   ],
   "source": [
    "len(actual)"
   ]
  },
  {
   "cell_type": "code",
   "execution_count": 87,
   "metadata": {},
   "outputs": [
    {
     "data": {
      "text/plain": [
       "array([[ True,  True,  True,  True,  True,  True,  True,  True,  True,\n",
       "         True,  True,  True,  True,  True],\n",
       "       [False,  True,  True,  True,  True,  True,  True,  True,  True,\n",
       "         True,  True,  True,  True,  True],\n",
       "       [False, False,  True,  True,  True,  True,  True,  True,  True,\n",
       "         True,  True,  True,  True,  True],\n",
       "       [False, False, False,  True,  True,  True,  True,  True,  True,\n",
       "         True,  True,  True,  True,  True],\n",
       "       [False, False, False, False,  True,  True,  True,  True,  True,\n",
       "         True,  True,  True,  True,  True],\n",
       "       [False, False, False, False, False,  True,  True,  True,  True,\n",
       "         True,  True,  True,  True,  True],\n",
       "       [False, False, False, False, False, False,  True,  True,  True,\n",
       "         True,  True,  True,  True,  True],\n",
       "       [False, False, False, False, False, False, False,  True,  True,\n",
       "         True,  True,  True,  True,  True],\n",
       "       [False, False, False, False, False, False, False, False,  True,\n",
       "         True,  True,  True,  True,  True],\n",
       "       [False, False, False, False, False, False, False, False, False,\n",
       "         True,  True,  True,  True,  True],\n",
       "       [False, False, False, False, False, False, False, False, False,\n",
       "        False,  True,  True,  True,  True],\n",
       "       [False, False, False, False, False, False, False, False, False,\n",
       "        False, False,  True,  True,  True],\n",
       "       [False, False, False, False, False, False, False, False, False,\n",
       "        False, False, False,  True,  True],\n",
       "       [False, False, False, False, False, False, False, False, False,\n",
       "        False, False, False, False,  True]])"
      ]
     },
     "execution_count": 87,
     "metadata": {},
     "output_type": "execute_result"
    }
   ],
   "source": [
    "mask"
   ]
  },
  {
   "cell_type": "code",
   "execution_count": null,
   "metadata": {},
   "outputs": [],
   "source": []
  }
 ],
 "metadata": {
  "kernelspec": {
   "display_name": "Python 3",
   "language": "python",
   "name": "python3"
  },
  "language_info": {
   "codemirror_mode": {
    "name": "ipython",
    "version": 3
   },
   "file_extension": ".py",
   "mimetype": "text/x-python",
   "name": "python",
   "nbconvert_exporter": "python",
   "pygments_lexer": "ipython3",
   "version": "3.8.5"
  }
 },
 "nbformat": 4,
 "nbformat_minor": 4
}
